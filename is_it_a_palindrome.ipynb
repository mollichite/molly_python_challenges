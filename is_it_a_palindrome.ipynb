{
 "cells": [
  {
   "cell_type": "code",
   "execution_count": 4,
   "id": "81845f7f",
   "metadata": {},
   "outputs": [
    {
     "name": "stdout",
     "output_type": "stream",
     "text": [
      "False\n"
     ]
    }
   ],
   "source": [
    "def is_palindrome(word):\n",
    "    return word == word[::-1]\n",
    "print(is_palindrome(\"travel\"))"
   ]
  },
  {
   "cell_type": "code",
   "execution_count": 8,
   "id": "712d0bbe",
   "metadata": {},
   "outputs": [
    {
     "name": "stdout",
     "output_type": "stream",
     "text": [
      "True\n"
     ]
    }
   ],
   "source": [
    "def is_palindrome(word):\n",
    "    return word == word[::-1]\n",
    "print(is_palindrome(\"racecar\"))"
   ]
  },
  {
   "cell_type": "code",
   "execution_count": 9,
   "id": "e26cca3d",
   "metadata": {},
   "outputs": [
    {
     "name": "stdout",
     "output_type": "stream",
     "text": [
      "False\n"
     ]
    }
   ],
   "source": [
    "def is_palindrome(word):\n",
    "    cleanedup = word.lower().replace(\" \", \"\")\n",
    "    return cleanedup == cleanedup[::-1]\n",
    "print(is_palindrome(\"Travel\"))"
   ]
  },
  {
   "cell_type": "code",
   "execution_count": 19,
   "id": "8343190e",
   "metadata": {},
   "outputs": [
    {
     "name": "stdout",
     "output_type": "stream",
     "text": [
      "racecar, is a palindrome!\n"
     ]
    }
   ],
   "source": [
    "def is_palindrome(word):\n",
    "    cleanedup = word.lower().replace(\" \", \"\")\n",
    "    return cleanedup == cleanedup[::-1]\n",
    "#print(is_palindrome(\"Racecar\"))\n",
    "word = \"racecar\"\n",
    "if True:\n",
    "    print(f\"{word}, is a palindrome!\")\n",
    "else:\n",
    "    print(f\"{word} is not a palindrome\")"
   ]
  }
 ],
 "metadata": {
  "kernelspec": {
   "display_name": "Python 3",
   "language": "python",
   "name": "python3"
  },
  "language_info": {
   "codemirror_mode": {
    "name": "ipython",
    "version": 3
   },
   "file_extension": ".py",
   "mimetype": "text/x-python",
   "name": "python",
   "nbconvert_exporter": "python",
   "pygments_lexer": "ipython3",
   "version": "3.13.5"
  }
 },
 "nbformat": 4,
 "nbformat_minor": 5
}
