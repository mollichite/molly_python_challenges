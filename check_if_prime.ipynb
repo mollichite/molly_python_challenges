{
 "cells": [
  {
   "cell_type": "code",
   "execution_count": 16,
   "id": "cb3814b8",
   "metadata": {},
   "outputs": [],
   "source": [
    "def is_prime(num: int):\n",
    "    if num <=1:\n",
    "        return False\n",
    "    if num == 2:\n",
    "        return True\n",
    "    if num % 2 == 0:\n",
    "        return False\n",
    "    i = 3\n",
    "    while i * i <= num:\n",
    "        if num % i == 0:\n",
    "            return False\n",
    "        i += 2\n",
    "    return True\n",
    "\n",
    "\n",
    "\n",
    "def main():\n",
    "    number = int(input(\"Input a number: \"))\n",
    "    if is_prime(number):\n",
    "        print(f\"{number} is a prime!\")\n",
    "    else:\n",
    "        print(f\"{number} not a prime, try again\")\n",
    "\n",
    "\n"
   ]
  }
 ],
 "metadata": {
  "kernelspec": {
   "display_name": "Python 3",
   "language": "python",
   "name": "python3"
  },
  "language_info": {
   "codemirror_mode": {
    "name": "ipython",
    "version": 3
   },
   "file_extension": ".py",
   "mimetype": "text/x-python",
   "name": "python",
   "nbconvert_exporter": "python",
   "pygments_lexer": "ipython3",
   "version": "3.13.5"
  }
 },
 "nbformat": 4,
 "nbformat_minor": 5
}
