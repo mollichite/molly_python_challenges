{
 "cells": [
  {
   "cell_type": "code",
   "execution_count": null,
   "id": "068feff9",
   "metadata": {},
   "outputs": [
    {
     "name": "stdout",
     "output_type": "stream",
     "text": [
      "10\n"
     ]
    }
   ],
   "source": [
    "def find_max(numbers):\n",
    "    current_max = numbers[0]\n",
    "    for num in numbers:\n",
    "        if num >= current_max:\n",
    "            current_max = num\n",
    "        \n",
    "    return current_max\n",
    "\n",
    "print(find_max([1,4,10]))\n"
   ]
  },
  {
   "cell_type": "code",
   "execution_count": 28,
   "id": "d4b61898",
   "metadata": {},
   "outputs": [
    {
     "name": "stdout",
     "output_type": "stream",
     "text": [
      "6\n"
     ]
    }
   ],
   "source": [
    "\n",
    "def find_max(numbers):\n",
    "    if not numbers:\n",
    "        return None #if list is empty it will return 'none'\n",
    "    current_max = numbers[0]\n",
    "    for num in numbers: \n",
    "        if num > current_max:\n",
    "            current_max = num\n",
    "\n",
    "       \n",
    "\n",
    "    return current_max\n",
    " \n",
    " \n",
    "\n",
    "print(find_max([4, 3, 6]))\n"
   ]
  },
  {
   "cell_type": "code",
   "execution_count": null,
   "id": "98eac550",
   "metadata": {},
   "outputs": [],
   "source": []
  }
 ],
 "metadata": {
  "kernelspec": {
   "display_name": "Python 3",
   "language": "python",
   "name": "python3"
  },
  "language_info": {
   "codemirror_mode": {
    "name": "ipython",
    "version": 3
   },
   "file_extension": ".py",
   "mimetype": "text/x-python",
   "name": "python",
   "nbconvert_exporter": "python",
   "pygments_lexer": "ipython3",
   "version": "3.13.5"
  }
 },
 "nbformat": 4,
 "nbformat_minor": 5
}
