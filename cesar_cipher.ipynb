{
 "cells": [
  {
   "cell_type": "code",
   "execution_count": 15,
   "id": "5d140fd4",
   "metadata": {},
   "outputs": [
    {
     "name": "stdout",
     "output_type": "stream",
     "text": [
      "result: edfnsdfnk\n"
     ]
    }
   ],
   "source": [
    "\n",
    "def caesar_cipher(text,shift):\n",
    "\n",
    "    alphabet = 'abcdefghijklmnopqrstuvwxyz'\n",
    "    result = \"\"#empty string to hold result\n",
    "\n",
    "    for char in text:#loop through eash character input\n",
    "        if char.lower() in alphabet: #check that character is a letter, ignor case\n",
    "            is_upper = char.isupper() #check if original character was upper case to preserved for later\n",
    "            index = alphabet.index(char.lower()) # find index of character in alphabet\n",
    "            shifted_index = (index + shift) %26 #calculate shifted index using modulus to wrap around\n",
    "            shifted_char = alphabet[shifted_index] #shifting based on above\n",
    "            result += shifted_char.upper() if is_upper else shifted_char#append the shifted character, preserving original case\n",
    "    else:\n",
    "            result += char #if the character is not a letter, add it back in\n",
    "    return result#return the final string\n",
    "\n",
    "mode = input(\"Encrypt(e) or decrypt (d)?\").strip().lower()\n",
    "text = input((\"Please enter your text:\")) \n",
    "\n",
    "#apply positive shift for encryption\n",
    "shift = 3\n",
    "\n",
    "#apply negative shift for decrption\n",
    "if mode == 'd':\n",
    "    shift = -shift\n",
    "\n",
    "#Display the result\n",
    "print(\"result:\", caesar_cipher(text,shift))"
   ]
  },
  {
   "cell_type": "markdown",
   "id": "10326f90",
   "metadata": {},
   "source": [
    "Your Task\n",
    "Define a function called caesar_cipher that accepts:\n",
    "a string text\n",
    "an integer shift\n",
    "Return a new string with each alphabetical character shifted by the shift amount.\n",
    "Keep the case (uppercase/lowercase) the same.\n",
    "Do not change non-letter characters like punctuation, spaces, or numbers.\n",
    "Concepts Tested\n",
    "String manipulation\n",
    "Character encoding with ord() and chr()\n",
    "Modulo math for wrapping the alphabet\n",
    "Control flow and logic\n",
    "Stretch Ideas\n",
    "Add a second function to decode messages by shifting in the opposite direction\n",
    "Allow the user to input text and shift value\n",
    "Handle very large or negative shift values\n",
    "Save the encoded message to a file\n",
    "Hints:\n",
    "Use ord() to get the Unicode value of a character.\n",
    "Use chr() to convert back to a character.\n",
    "Wrap around the alphabet using % 26 when needed.\n",
    "Make sure to handle both uppercase and lowercase letters correctly."
   ]
  }
 ],
 "metadata": {
  "kernelspec": {
   "display_name": "Python 3",
   "language": "python",
   "name": "python3"
  },
  "language_info": {
   "codemirror_mode": {
    "name": "ipython",
    "version": 3
   },
   "file_extension": ".py",
   "mimetype": "text/x-python",
   "name": "python",
   "nbconvert_exporter": "python",
   "pygments_lexer": "ipython3",
   "version": "3.13.5"
  }
 },
 "nbformat": 4,
 "nbformat_minor": 5
}
